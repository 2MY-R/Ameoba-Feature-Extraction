{
 "cells": [
  {
   "cell_type": "code",
   "id": "initial_id",
   "metadata": {
    "collapsed": true,
    "ExecuteTime": {
     "end_time": "2024-08-30T13:34:08.345934Z",
     "start_time": "2024-08-30T13:34:04.769561Z"
    }
   },
   "source": [
    "import os\n",
    "import sys\n",
    "from natsort import natsorted\n",
    "\n",
    "\n",
    "import numpy as np\n",
    "import matplotlib.pyplot as plt\n",
    "import matplotlib.image as mpimg\n",
    "import pandas as pd\n",
    "from pathlib import Path\n",
    "import utils\n"
   ],
   "outputs": [],
   "execution_count": 1
  },
  {
   "metadata": {
    "ExecuteTime": {
     "end_time": "2024-08-30T13:34:10.090521Z",
     "start_time": "2024-08-30T13:34:10.084187Z"
    }
   },
   "cell_type": "code",
   "source": "cell_directory = r'final_cells'",
   "id": "e9f5b20e3a669845",
   "outputs": [],
   "execution_count": 2
  },
  {
   "metadata": {
    "ExecuteTime": {
     "end_time": "2024-08-30T13:46:43.602283Z",
     "start_time": "2024-08-30T13:46:37.646849Z"
    }
   },
   "cell_type": "code",
   "source": [
    "feature_plots_dir = r'C:\\Users\\2MY\\Documents\\Uni Work\\SURE\\Segmentation 3\\Track\\feature_plots'\n",
    "\n",
    "utils.remake_dir(Path(feature_plots_dir))\n",
    "\n",
    "features_to_plot = ['area','perimeter','speed','eccentricity','orientation']\n",
    "cells_plot = natsorted([b for b in Path(cell_directory).iterdir()])\n",
    "\n",
    "def plot_features(out_dir,eats):\n",
    "    print('\\n---------------\\nPlotting Features\\n---------------\\n')\n",
    "    for j, features_path in enumerate(cells_plot):\n",
    "        sys.stdout.write(f'cell  {j+1}/{len(cells_plot)} \\r')\n",
    "        sys.stdout.flush()\n",
    "        \n",
    "        data = pd.read_csv(features_path)\n",
    "\n",
    "        fig, ax = plt.subplots(5, sharex=True, figsize=(10, 10))\n",
    "        for i, feature in enumerate(features_to_plot):\n",
    "            ax[i].plot(data['time'],data[feature], label=feature)\n",
    "            ax[i].set(ylabel=feature)\n",
    "            ax[i].grid()\n",
    "\n",
    "        fig.suptitle('Amoeba '+ features_path.stem)\n",
    "        ax[-1].set(xlabel='time (minutes:seconds)')\n",
    "        filepath = os.path.join(out_dir, features_path.stem )\n",
    "        plt.savefig(f'{filepath}.png')\n",
    "        plt.close()   \n",
    "        \n",
    "plot_features(feature_plots_dir, features_to_plot)"
   ],
   "id": "9e25e298ab9539ae",
   "outputs": [
    {
     "name": "stdout",
     "output_type": "stream",
     "text": [
      "\n",
      "---------------\n",
      "Plotting Features\n",
      "---------------\n",
      "\n",
      "cell  16/16 \r"
     ]
    }
   ],
   "execution_count": 12
  },
  {
   "metadata": {},
   "cell_type": "code",
   "outputs": [],
   "execution_count": null,
   "source": "",
   "id": "937d58cf9a0ffc3a"
  }
 ],
 "metadata": {
  "kernelspec": {
   "display_name": "Python 3",
   "language": "python",
   "name": "python3"
  },
  "language_info": {
   "codemirror_mode": {
    "name": "ipython",
    "version": 2
   },
   "file_extension": ".py",
   "mimetype": "text/x-python",
   "name": "python",
   "nbconvert_exporter": "python",
   "pygments_lexer": "ipython2",
   "version": "2.7.6"
  }
 },
 "nbformat": 4,
 "nbformat_minor": 5
}
