{
 "nbformat": 4,
 "nbformat_minor": 0,
 "metadata": {
  "colab": {
   "provenance": [],
   "gpuType": "T4",
   "authorship_tag": "ABX9TyOn39t8qpEs4kjzXueAkqTM"
  },
  "kernelspec": {
   "name": "python3",
   "display_name": "Python 3 (ipykernel)",
   "language": "python"
  },
  "language_info": {
   "name": "python"
  },
  "accelerator": "GPU"
 },
 "cells": [
  {
   "cell_type": "code",
   "source": "!python -m pip install 'git+https://github.com/facebookresearch/detectron2.git'",
   "metadata": {
    "colab": {
     "base_uri": "https://localhost:8080/"
    },
    "id": "mwa1DxxdVtfw",
    "executionInfo": {
     "status": "ok",
     "timestamp": 1722857130954,
     "user_tz": -60,
     "elapsed": 15027,
     "user": {
      "displayName": "Toumai Rouse",
      "userId": "03336959233509378970"
     }
    },
    "outputId": "a524da71-0bc3-44e7-9c5b-559955f12dc4"
   },
   "outputs": [],
   "execution_count": null
  },
  {
   "cell_type": "code",
   "source": [
    "import detectron2\n",
    "from detectron2.utils.logger import setup_logger\n",
    "setup_logger()\n",
    "\n",
    "# import some common detectron2 utilities\n",
    "from detectron2 import model_zoo\n",
    "from detectron2.engine import DefaultPredictor\n",
    "from detectron2.config import get_cfg\n",
    "from detectron2.utils.visualizer import Visualizer\n",
    "from detectron2.data import MetadataCatalog, DatasetCatalog\n",
    "\n",
    "# import some common libraries\n",
    "import torch\n",
    "import numpy as np\n",
    "import cv2\n",
    "from pathlib import Path\n",
    "import shutil\n",
    "from PIL import Image\n",
    "from tqdm import tqdm\n",
    "from matplotlib import image as mpimg\n",
    "import matplotlib.pyplot as plt\n",
    "import os\n",
    "from IPython.display import clear_output\n",
    "import time"
   ],
   "metadata": {
    "id": "bPLIs0oGVzVe",
    "executionInfo": {
     "status": "ok",
     "timestamp": 1722857141181,
     "user_tz": -60,
     "elapsed": 6657,
     "user": {
      "displayName": "Toumai Rouse",
      "userId": "03336959233509378970"
     }
    }
   },
   "outputs": [],
   "execution_count": null
  },
  {
   "cell_type": "code",
   "source": [
    "def segment_detectron2(data, ndata, cfg, mode):\n",
    "    if ndata==0:\n",
    "        ndata=data.shape[0]\n",
    "    D=[]\n",
    "    predictor = DefaultPredictor(cfg)\n",
    "    SE= cv2.getStructuringElement(cv2.MORPH_ELLIPSE,(7,7))\n",
    "\n",
    "    t = time.time()\n",
    "    for i in range(ndata):\n",
    "        new_im = data[i]\n",
    "        outputs  = predictor(new_im)\n",
    "        category = outputs[\"instances\"].pred_classes\n",
    "        mask = outputs[\"instances\"].pred_masks.to(\"cpu\").numpy().astype(bool)\n",
    "        Z = np.zeros((mask.shape[1],mask.shape[2]),dtype=\"uint8\")\n",
    "        for idx in range(mask.shape[0]):\n",
    "            if (mask[idx].sum()<2000) or (mode=='phase'):\n",
    "                msk=(np.uint8(category[idx].cpu())+1)*mask[idx]\n",
    "                if mode=='phase':\n",
    "                    msk=cv2.erode(msk.astype('float32'), SE, iterations=1)\n",
    "                Z=Z*(~(msk>0))+msk\n",
    "        D.append(Z)\n",
    "        elapsed = time.time() - t\n",
    "        print('Time required for processing all data: ', elapsed)\n",
    "        clear_output(wait=True)\n",
    "        print('frame ',i+1,'/',ndata)\n",
    "    D=np.array(D)\n",
    "    print('Completed')\n",
    "    return D"
   ],
   "metadata": {
    "id": "UUSr-h7IV4cN",
    "executionInfo": {
     "status": "ok",
     "timestamp": 1722857143119,
     "user_tz": -60,
     "elapsed": 258,
     "user": {
      "displayName": "Toumai Rouse",
      "userId": "03336959233509378970"
     }
    }
   },
   "outputs": [],
   "execution_count": null
  },
  {
   "cell_type": "code",
   "source": [
    "# input parameters\n",
    "imsize=768 # 768, 1024\n",
    "image_format = 'jpg' # e.g .png, .svg, etc.\n",
    "img_dpi=1200\n",
    "\n",
    "source3=r\"Phase\"\n",
    "\n",
    "\n",
    "#num_images = 350\n",
    "sorted_list_dataset = os.listdir(source3)\n",
    "sorted_list_dataset.sort(key=lambda f: int(''.join(filter(str.isdigit, f))))\n",
    "\n",
    "print(sorted_list_dataset)\n",
    "\n",
    "\n",
    "Dataset = []\n",
    "for idx in tqdm(sorted_list_dataset):\n",
    "      filepath = os.path.join(source3,idx)\n",
    "      if filepath.endswith(('.jpg')):\n",
    "          file = mpimg.imread(filepath)\n",
    "          file=cv2.resize(file,(imsize,imsize))\n",
    "          Dataset.append(file)\n",
    "Dataset=np.array(Dataset)\n",
    "Dataset=((Dataset-Dataset.min())/Dataset.max())*255 ##QUESTION\n",
    "Dataset=np.uint8(Dataset)\n",
    "\n",
    "print('training set shape', Dataset.shape)\n",
    "\n",
    "print('training set max', Dataset.max())\n",
    "show(Dataset[0],cmap='gray')\n",
    "\n",
    "plt.axis(\"off\")\n",
    "plt.show()\n"
   ],
   "metadata": {
    "colab": {
     "base_uri": "https://localhost:8080/",
     "height": 495
    },
    "id": "GxY3QChlWv-z",
    "executionInfo": {
     "status": "ok",
     "timestamp": 1722857192962,
     "user_tz": -60,
     "elapsed": 6786,
     "user": {
      "displayName": "Toumai Rouse",
      "userId": "03336959233509378970"
     }
    },
    "outputId": "5eb98ffd-598f-4c9a-e1a4-52f19b9a28db"
   },
   "outputs": [],
   "execution_count": null
  },
  {
   "cell_type": "code",
   "source": [
    "cfg = get_cfg()\n",
    "cfg.merge_from_file(model_zoo.get_config_file(\"COCO-InstanceSegmentation/mask_rcnn_R_50_FPN_3x.yaml\"))\n",
    "cfg.MODEL.WEIGHTS = model_zoo.get_checkpoint_url(\"COCO-InstanceSegmentation/mask_rcnn_R_50_FPN_3x.yaml\")  # Let training\n",
    "cfg.MODEL.WEIGHTS = r\"/content/drive/MyDrive/Sure Scheme/Segmentation/Dataset_Amoebas_Yeast_Phase v2/model1/model_final.pth\"\n",
    "cfg.SOLVER.IMS_PER_BATCH = 2  # This is the real \"batch size\" commonly known to deep learning people\n",
    "cfg.MODEL.ROI_HEADS.BATCH_SIZE_PER_IMAGE = 256   # Default is 512, using 256 for this dataset.\n",
    "cfg.MODEL.DEVICE='cpu'\n",
    "cfg.MODEL.ROI_HEADS.NUM_CLASSES = 2  # We have 200 classes.\n",
    "cfg.TEST.DETECTIONS_PER_IMAGE= 300\n",
    "cfg.MODEL.DEVICE='cpu'\n",
    "cfg.MODEL.ROI_HEADS.SCORE_THRESH_TEST = 0.5   # set a custom testing threshold\n",
    "predictor = DefaultPredictor(cfg)\n"
   ],
   "metadata": {
    "colab": {
     "base_uri": "https://localhost:8080/"
    },
    "id": "8f3gwnubbeDz",
    "executionInfo": {
     "status": "ok",
     "timestamp": 1722857286251,
     "user_tz": -60,
     "elapsed": 38719,
     "user": {
      "displayName": "Toumai Rouse",
      "userId": "03336959233509378970"
     }
    },
    "outputId": "053a4848-c41d-4fa4-a584-3a415bffd9d3"
   },
   "outputs": [],
   "execution_count": null
  },
  {
   "cell_type": "code",
   "source": [
    "input_images_directory = source3\n",
    "output_directory = r'Phase_masks'\n",
    "\n",
    "shutil.rmtree(output_directory) #remakes output directory\n",
    "os.mkdir(output_directory)\n",
    "\n",
    "num_images = 10\n",
    "dirFiles = os.listdir(input_images_directory)\n",
    "dirFiles.sort(key=lambda f: int(''.join(filter(str.isdigit, f))))\n",
    "\n",
    "classes = [\"amoeba\", \"yeast\"]\n",
    "\n",
    "for i, image_filename in enumerate(dirFiles[:num_images]):\n",
    "    sys.stdout.write(f'\\rSegmenting image {i+1} / {len(os.listdir(input_images_directory)[:num_images])}')\n",
    "   \n",
    "    sys.stdout.flush()\n",
    "    image_path = os.path.join(input_images_directory, image_filename)\n",
    "    new_im = cv2.imread(image_path)\n",
    "\n",
    "    outputs = predictor(new_im)  # Format is documented at https://detectron2.readthedocs.io/tutorials/models.html#model-output-format\n",
    "\n",
    "    # Create a dictionary to store the mask for each class with unique integer labels\n",
    "    class_masks = {class_name: torch.zeros_like(outputs[\"instances\"].pred_masks[0], dtype=torch.int16,)\n",
    "                   for class_name in classes}\n",
    "\n",
    "    # Assign a unique integer label to each object in the mask\n",
    "    for i, pred_class in enumerate(outputs[\"instances\"].pred_classes):\n",
    "        class_name = classes[pred_class]\n",
    "        instance_mask = outputs[\"instances\"].pred_masks[i]\n",
    "        class_masks[class_name] = torch.where(instance_mask,\n",
    "                                      torch.tensor(i + 1, dtype=torch.float32),\n",
    "                                      class_masks[class_name].to(dtype=torch.float32))\n",
    "        class_masks[class_name] = class_masks[class_name].to(dtype=torch.int16)\n",
    "\n",
    "\n",
    "\n",
    "\n",
    "    for class_name, class_mask in class_masks.items():\n",
    "        class_mask_np = class_mask.cpu().numpy()\n",
    "        image_name = os.path.splitext(image_filename)[0] + f'_{class_name}.tif'\n",
    "\n",
    "        output_path = os.path.join(output_directory, class_name)\n",
    "        os.makedirs(output_path, exist_ok=True)\n",
    "\n",
    "        \n",
    "        Image.fromarray(class_mask_np.astype(np.uint16)).save(Path(output_path) / image_name)"
   ],
   "metadata": {
    "colab": {
     "base_uri": "https://localhost:8080/"
    },
    "id": "uSGlzRo8qmJQ",
    "executionInfo": {
     "status": "ok",
     "timestamp": 1722857389950,
     "user_tz": -60,
     "elapsed": 63283,
     "user": {
      "displayName": "Toumai Rouse",
      "userId": "03336959233509378970"
     }
    },
    "outputId": "ab42826d-358d-4e0c-9339-4b468dcb2239"
   },
   "outputs": [],
   "execution_count": null
  }
 ]
}
