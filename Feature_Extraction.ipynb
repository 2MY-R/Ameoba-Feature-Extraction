{
 "nbformat": 4,
 "nbformat_minor": 0,
 "metadata": {
  "colab": {
   "provenance": [],
   "gpuType": "T4"
  },
  "kernelspec": {
   "name": "python3",
   "display_name": "Python 3 (ipykernel)",
   "language": "python"
  },
  "language_info": {
   "name": "python"
  },
  "accelerator": "GPU"
 },
 "cells": [
  {
   "cell_type": "code",
   "source": [
    "import sys\n",
    "\n",
    "#directory_]path = r'Working directory'\n",
    "\n",
    "#sys.path.append(directory_path) # This path must contain this current file, mask_funcs.py and utils.py"
   ],
   "metadata": {
    "id": "QmB7CbkpZzdn",
    "executionInfo": {
     "status": "ok",
     "timestamp": 1723992203741,
     "user_tz": -60,
     "elapsed": 9,
     "user": {
      "displayName": "Toumai Rouse",
      "userId": "03336959233509378970"
     }
    }
   },
   "outputs": [],
   "execution_count": null
  },
  {
   "metadata": {},
   "cell_type": "code",
   "source": "import torch; print(torch.version.cuda); print(torch.cuda.is_available())",
   "outputs": [],
   "execution_count": null
  },
  {
   "cell_type": "code",
   "source": [
    "import torch\n",
    "import numpy as np\n",
    "import sys\n",
    "import pandas as pd\n",
    "import gc\n",
    "import matplotlib.pyplot as plt\n",
    "import os\n",
    "from pathlib import Path\n",
    "import datetime\n",
    "\n",
    "import utils\n",
    "import mask_funcs\n",
    "\n",
    "device = torch.device(\"cuda\" if torch.cuda.is_available() else \"cpu\")"
   ],
   "metadata": {
    "id": "faC_7mcAZ4sC",
    "executionInfo": {
     "status": "ok",
     "timestamp": 1723992210590,
     "user_tz": -60,
     "elapsed": 6854,
     "user": {
      "displayName": "Toumai Rouse",
      "userId": "03336959233509378970"
     }
    }
   },
   "outputs": [],
   "execution_count": null
  },
  {
   "cell_type": "code",
   "source": [
    "from skimage.measure import label, regionprops, regionprops_table"
   ],
   "metadata": {
    "id": "jA4SE4fb8bHv",
    "executionInfo": {
     "status": "ok",
     "timestamp": 1723992210949,
     "user_tz": -60,
     "elapsed": 383,
     "user": {
      "displayName": "Toumai Rouse",
      "userId": "03336959233509378970"
     }
    }
   },
   "outputs": [],
   "execution_count": null
  },
  {
   "metadata": {},
   "cell_type": "code",
   "source": "from natsort import natsorted",
   "outputs": [],
   "execution_count": null
  },
  {
   "cell_type": "code",
   "source": [
    "from re import L\n",
    "class Cell:\n",
    "    def __init__(self, index, directory):\n",
    "        self.index = index\n",
    "        self.file = directory / (\"{0:04}\".format(self.index) + '.csv')\n",
    "        with open(self.file, 'w') as f:\n",
    "            f.write('time\\tarea\\tspeed\\tperimeter\\txcentre\\tycentre\\teccentricity\\torientation\\tmajor_axis\\tminor_axis')\n",
    "\n",
    "    def write_features(self, line):\n",
    "        with open(self.file, 'a') as f:\n",
    "            f.write(line)\n",
    "\n",
    "    def save_pd(self):\n",
    "      pass\n",
    "\n",
    "class CellBatch:\n",
    "    def __init__(self, indices, tracked_directory,  features_directory):\n",
    "        self.indices = indices\n",
    "        self.expanded_indices = self.indices.unsqueeze(-1).unsqueeze(-1).expand((len(indices), *IMAGE_SIZE))\n",
    "\n",
    "        self.cells = [Cell(i, features_directory) for i in self.indices]\n",
    "        self.centres = None\n",
    "\n",
    "        self.timer = '00:00:00.0'\n",
    "        self.timer = datetime.datetime.strptime(self.timer, '%H:%M:%S.%f')\n",
    "    \n",
    "        self.last_centres = None\n",
    "        self.batch_size = len(self.indices)\n",
    "        self.paths = natsorted([p for p in (tracked_directory).iterdir()])\n",
    "       \n",
    "        self.num_frames = len(self.paths)\n",
    "        self.coord_grid_x, self.coord_grid_y = torch.meshgrid(torch.arange(IMAGE_SIZE[0]).to(device),\n",
    "                                                              torch.arange(IMAGE_SIZE[1]).to(device))\n",
    "\n",
    "        self.tracked_directory = tracked_directory\n",
    "        \n",
    "\n",
    "    def run_feature_extraction(self):\n",
    "        for i, path in enumerate(self.paths):\n",
    "            print(self.paths)\n",
    "            sys.stdout.write(f'\\rFrame {i+1} | Cells {torch.min(self.indices)}-{torch.max(self.indices)} \\n')\n",
    "            sys.stdout.flush()\n",
    "            if i == 0:\n",
    "                full_mask = torch.tensor(utils.read_tiff(path).astype(np.int16)).to(device)\n",
    "                print(full_mask.max())\n",
    "                self.masks = torch.where(full_mask.unsqueeze(0).expand(len(self.indices), *full_mask.shape) == self.expanded_indices, 1,0)\n",
    "                print(self.masks[0].min())\n",
    "                full_mask = None\n",
    "            self.next_frame(path)\n",
    "            self.read_features()\n",
    "            \n",
    "            self.write_features()\n",
    "            torch.cuda.empty_cache()\n",
    "            gc.collect()\n",
    "\n",
    "    def next_frame(self, path):\n",
    "        full_mask = torch.tensor(utils.read_tiff(path).astype(np.int16)).to(device)\n",
    "        self.masks = torch.where(full_mask.unsqueeze(0).expand(len(self.indices), *full_mask.shape) == self.expanded_indices, 1, 0)\n",
    "        full_mask = None\n",
    "    \n",
    "\n",
    "    def read_features(self):\n",
    "        self.get_time()\n",
    "        self.get_areas()\n",
    "        self.get_centres()\n",
    "        self.get_ecc()\n",
    "        self.get_ori()\n",
    "        self.get_axs()\n",
    "        self.get_speeds()\n",
    "        self.get_perimeters()\n",
    "        \n",
    "\n",
    "    def write_features(self):\n",
    "        for i, cell in enumerate(self.cells):\n",
    "            new_line = (\n",
    "                '\\n'  + str(self.timer.strftime('%M:%S')) + '\\t'\n",
    "                + '\\t'.join([str(a.item()) for a in (self.areas[i], self.speeds[i], self.perimeters[i], self.centres[i, 0], self.centres[i, 1])])\n",
    "                + '\\t' + str(self.ecc[i])\n",
    "                + '\\t' + str(self.ori[i])\n",
    "                + '\\t' + str(self.maj[i])\n",
    "                + '\\t' + str(self.min[i])\n",
    "            )\n",
    "            \n",
    "            cell.write_features(new_line)\n",
    "        self.timer += datetime.timedelta(seconds=3)   \n",
    "        \n",
    "    def get_time(self):\n",
    "        self.times = []\n",
    "        \n",
    "    def get_areas(self):\n",
    "        self.areas = torch.sum(self.masks, dim=(1, 2)).float()\n",
    "        self.areas[self.areas == 0] = float('nan')\n",
    "\n",
    "    def get_centres(self):\n",
    "        if self.centres is not None:\n",
    "            self.last_centres = self.centres\n",
    "\n",
    "        x_centres = torch.sum(self.masks * self.coord_grid_x, dim=(1, 2)) / self.areas\n",
    "        y_centres = torch.sum(self.masks * self.coord_grid_y, dim=(1, 2)) / self.areas\n",
    "\n",
    "        self.centres = torch.stack((x_centres, y_centres), dim=1)\n",
    "\n",
    "    def get_ecc(self):\n",
    "      self.ecc = []\n",
    "      for am in self.masks:\n",
    "        props = regionprops_table(\n",
    "      am.cpu().numpy().astype(np.uint8),\n",
    "      properties=('eccentricity',),\n",
    "                                )\n",
    "        if len(props['eccentricity']) == 0:\n",
    "          self.ecc.append(float('nan'))\n",
    "        else:\n",
    "          self.ecc.append(props['eccentricity'][0])\n",
    "\n",
    "    def get_ori(self):\n",
    "      self.ori = []\n",
    "      for am in self.masks:\n",
    "        props = regionprops_table(\n",
    "      am.cpu().numpy().astype(np.uint8),\n",
    "      properties=('orientation',),\n",
    "                                )\n",
    "        if len(props['orientation']) == 0:\n",
    "          self.ori.append(float('nan'))\n",
    "        else:\n",
    "          self.ori.append(props['orientation'][0])\n",
    "\n",
    "    def get_axs(self):\n",
    "      self.maj = []\n",
    "      self.min = []\n",
    "      for am in self.masks:\n",
    "        props = regionprops_table(\n",
    "      am.cpu().numpy().astype(np.uint8),\n",
    "      properties=('axis_major_length','axis_minor_length',),\n",
    "                                )\n",
    "        if len(props['axis_major_length']) == 0:\n",
    "          self.maj.append(float('nan'))\n",
    "        else:\n",
    "          self.maj.append(props['axis_major_length'][0])\n",
    "\n",
    "        if len(props['axis_minor_length']) == 0:\n",
    "          self.min.append(float('nan'))\n",
    "        else:\n",
    "          self.min.append(props['axis_minor_length'][0])\n",
    "\n",
    "    def get_speeds(self):\n",
    "        if self.last_centres is None:\n",
    "            self.speeds = torch.full((self.batch_size,), float('nan'))\n",
    "\n",
    "        else:\n",
    "            self.speeds = torch.sqrt((self.centres[:, 0] - self.last_centres[:, 0])**2 + (self.centres[:, 1] - self.last_centres[:, 1])**2)\n",
    "        del self.last_centres\n",
    "\n",
    "    def get_perimeters(self):\n",
    "        kernel = torch.tensor([[1, 1, 1],\n",
    "                               [1, 9, 1],\n",
    "                               [1, 1, 1]]).to(device)\n",
    "\n",
    "        padded_masks = torch.nn.functional.pad(self.masks, (1, 1, 1, 1), mode='constant', value=0)\n",
    "        conv_result = torch.nn.functional.conv2d(padded_masks.unsqueeze(1).float(), kernel.unsqueeze(0).unsqueeze(0).float(),\n",
    "                                                 padding=0).squeeze()\n",
    "        self.perimeters = torch.sum((conv_result >= 10) & (conv_result <=16), dim=(1, 2)).float()\n",
    "        self.perimeters[self.perimeters == 0] = float('nan')\n",
    "\n",
    "\n",
    "    def clean_up(self, threshold=50):\n",
    "      \n",
    "      self.tracked_masks = sorted([mask for mask in Path(phase_directory).iterdir()])\n",
    "      \n",
    "      length_of_tracks = {}\n",
    "      for i, frame_path in enumerate(self.tracked_masks):\n",
    "          sys.stdout.write(\n",
    "              f'\\rReading frame {i + 1} / {len(self.tracked_masks)}')\n",
    "          sys.stdout.flush()\n",
    "          frame = torch.tensor(utils.read_tiff(frame_path).astype(np.int16)).cpu()\n",
    "          for index in torch.unique(frame):\n",
    "              index = index.item()\n",
    "              if index != 0:\n",
    "                  if index not in length_of_tracks.keys():\n",
    "                      length_of_tracks[index] = 0\n",
    "                  length_of_tracks[index] += 1\n",
    "      tracks_to_remove = torch.tensor(\n",
    "          [index for index, track_length in length_of_tracks.items() if track_length < threshold]).cpu()\n",
    "      print('\\n',length_of_tracks)\n",
    "      print(tracks_to_remove)\n",
    "      for i, frame_path in enumerate(self.tracked_masks):\n",
    "          # BATCHES NEEDED TO SPEED THIS BIT UP\n",
    "          sys.stdout.write(\n",
    "              f'\\rCleaning frame {i + 1} / {len(self.tracked_masks)}')\n",
    "          sys.stdout.flush()\n",
    "          frame = torch.tensor(utils.read_tiff(frame_path).astype(np.int16)).cpu()\n",
    "          cleaned_frame = frame.clone()\n",
    "          for track in tracks_to_remove:\n",
    "              cleaned_frame[frame == track] = 0\n",
    "          utils.save_tiff(cleaned_frame.to(dtype=torch.int16).cpu().numpy().astype(np.uint16), frame_path)\n"
   ],
   "metadata": {
    "id": "ylWmsfWgZ6YL",
    "executionInfo": {
     "status": "ok",
     "timestamp": 1723998531369,
     "user_tz": -60,
     "elapsed": 274,
     "user": {
      "displayName": "Toumai Rouse",
      "userId": "03336959233509378970"
     }
    }
   },
   "outputs": [],
   "execution_count": null
  },
  {
   "cell_type": "markdown",
   "source": [
    "## Feature Extraction\n",
    "For each detected cell, saves .csv file with value for each feature at each frame"
   ],
   "metadata": {
    "id": "GxkAVkTmA1ia"
   }
  },
  {
   "cell_type": "code",
   "source": [
    "\n",
    "# inputs\n",
    "tracked_directory = r'Tracks'\n",
    "\n",
    "# output\n",
    "features_directory = r'Features'\n",
    "phase_directory = r'amoeba'\n",
    "\n",
    "utils.remake_dir(Path(features_directory))\n",
    "\n",
    "IMAGE_SIZE = utils.read_tiff([i for i in (Path(tracked_directory).iterdir())][0]).shape\n",
    "\n",
    "with torch.no_grad():\n",
    "    cell_batch = CellBatch(torch.tensor(np.arange(1, 101)).to(device), Path(tracked_directory),  Path(features_directory))\n",
    "    cell_batch.run_feature_extraction()"
   ],
   "metadata": {
    "colab": {
     "base_uri": "https://localhost:8080/",
     "height": 428
    },
    "id": "bsHTkE3kofMK",
    "outputId": "8200ca57-c150-4821-c31d-20ce3e0ddbfd",
    "executionInfo": {
     "status": "error",
     "timestamp": 1723998544549,
     "user_tz": -60,
     "elapsed": 4017,
     "user": {
      "displayName": "Toumai Rouse",
      "userId": "03336959233509378970"
     }
    }
   },
   "outputs": [],
   "execution_count": null
  },
  {
   "cell_type": "code",
   "source": [
    "cell_batch.clean_up()"
   ],
   "metadata": {
    "colab": {
     "base_uri": "https://localhost:8080/"
    },
    "id": "9XAoxeePerO_",
    "executionInfo": {
     "status": "ok",
     "timestamp": 1720618536192,
     "user_tz": -60,
     "elapsed": 4045,
     "user": {
      "displayName": "Toumai Rouse",
      "userId": "03336959233509378970"
     }
    },
    "outputId": "bb8a7c28-98cd-45c8-c2c9-2637ff638eaa"
   },
   "outputs": [],
   "execution_count": null
  },
  {
   "cell_type": "code",
   "source": [
    "def clean_directory(features_directory,out_dir):\n",
    "    utils.remake_dir(Path(out_dir))\n",
    "\n",
    "    for i,cell in enumerate((Path(features_directory)).iterdir()):\n",
    "      df = pd.read_csv(cell, sep='\\t')\n",
    "    \n",
    "      if np.isnan(df['area'][0]) == True:\n",
    "        continue\n",
    "      else:\n",
    "          filepath = os.path.join(out_dir,f'cell_{i+1}')\n",
    "          df.to_csv(f'{filepath}.csv', index=False)\n",
    "\n",
    "viable_cell_dir = r'final_cells'\n",
    "clean_directory(features_directory, viable_cell_dir)"
   ],
   "metadata": {
    "colab": {
     "base_uri": "https://localhost:8080/"
    },
    "id": "UVQX45MbqLaN",
    "executionInfo": {
     "status": "ok",
     "timestamp": 1720610235728,
     "user_tz": -60,
     "elapsed": 624,
     "user": {
      "displayName": "Toumai Rouse",
      "userId": "03336959233509378970"
     }
    },
    "outputId": "773748bd-0080-48c0-8750-6a19b5307de2"
   },
   "outputs": [],
   "execution_count": null
  }
 ]
}
