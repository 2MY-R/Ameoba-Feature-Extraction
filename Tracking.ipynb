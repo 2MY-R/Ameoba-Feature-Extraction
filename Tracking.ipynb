{
 "nbformat": 4,
 "nbformat_minor": 0,
 "metadata": {
  "colab": {
   "provenance": [
    {
     "file_id": "15D3Osol8Q82cGdzmWEM5HFAEsruMMQDi",
     "timestamp": 1718877745856
    }
   ]
  },
  "kernelspec": {
   "name": "python3",
   "display_name": "Python 3 (ipykernel)",
   "language": "python"
  },
  "language_info": {
   "name": "python"
  }
 },
 "cells": [
  {
   "cell_type": "code",
   "source": [
    "import sys\n",
    "#sys.path.append(r' working directory') # This path must contain this file, mask_funcs.py and utils.py"
   ],
   "metadata": {
    "id": "1tyf7fplVIlG",
    "executionInfo": {
     "status": "ok",
     "timestamp": 1719931977526,
     "user_tz": -60,
     "elapsed": 375,
     "user": {
      "displayName": "Toumai Rouse",
      "userId": "03336959233509378970"
     }
    }
   },
   "outputs": [],
   "execution_count": null
  },
  {
   "cell_type": "code",
   "metadata": {
    "id": "CIZI8tIJtE_y",
    "executionInfo": {
     "status": "ok",
     "timestamp": 1719931986152,
     "user_tz": -60,
     "elapsed": 6484,
     "user": {
      "displayName": "Toumai Rouse",
      "userId": "03336959233509378970"
     }
    }
   },
   "source": [
    "import numpy as np\n",
    "import os\n",
    "from pathlib import Path\n",
    "import matplotlib.pyplot as plt\n",
    "import sys\n",
    "import torch\n",
    "import cv2\n",
    "\n",
    "import mask_funcs\n",
    "import utils\n",
    "\n",
    "device = torch.device(\"cuda\" if torch.cuda.is_available() else \"cpu\")"
   ],
   "outputs": [],
   "execution_count": null
  },
  {
   "metadata": {},
   "cell_type": "code",
   "source": "from natsort import natsorted",
   "outputs": [],
   "execution_count": null
  },
  {
   "cell_type": "code",
   "source": [
    "class MissingCell:\n",
    "    def __init__(self, mask):\n",
    "        self.mask = mask\n",
    "        self.missing_count = 0\n",
    "\n",
    "class Tracker:\n",
    "    def __init__(self, name, mask_directory, image_directory, tracked_directory, view_tracks_directory, frame_memory = 3, overlap_threshold = 0.4):\n",
    "        self.name = name\n",
    "        self.mask_ims = natsorted([mask for mask in (mask_directory).iterdir()])\n",
    "        self.images = natsorted([image for image in (image_directory).iterdir()])\n",
    "        self.tracked_directory = tracked_directory\n",
    "        self.view_tracks_directory = view_tracks_directory\n",
    "        self.old_frame = torch.tensor(utils.read_tiff(self.mask_ims[0]).astype(np.int16)).to(device)\n",
    "        self.new_frame = torch.tensor(utils.read_tiff(self.mask_ims[1]).astype(np.int16)).to(device)\n",
    "        self.max_index = torch.max(self.old_frame)\n",
    "        self.missing_cells = {} # key is cell index, value is instance of MissingCell class\n",
    "        self.frame_memory = frame_memory\n",
    "        self.overlap_threshold = overlap_threshold\n",
    "\n",
    "    def add_missing_masks(self):\n",
    "        for missing_index in self.missing_cells.keys():\n",
    "            if missing_index not in self.old_frame:\n",
    "                self.old_frame = torch.where(self.missing_cells[missing_index].mask.bool(), missing_index, self.old_frame)\n",
    "\n",
    "    def update_new_frame(self):\n",
    "        updated_new_frame = torch.zeros((600, 600)).to(device)\n",
    "        self.add_missing_masks()\n",
    "        for new_mask, mask_index in mask_funcs.SplitMask(self.new_frame):\n",
    "            intersection = torch.logical_and(new_mask, self.old_frame != 0)\n",
    "            indexes, counts = torch.unique(self.old_frame[intersection], return_counts=True)\n",
    "            if len(indexes) > 0 and torch.max(counts) > self.overlap_threshold*torch.sum(new_mask):\n",
    "                new_index = indexes[torch.argmax(counts)]\n",
    "                self.old_frame = torch.where(self.old_frame==indexes[torch.argmax(counts)], 0, self.old_frame)\n",
    "                if new_index in self.missing_cells:\n",
    "                    del self.missing_cells[new_index]\n",
    "            else:\n",
    "                new_index = self.max_index + 1\n",
    "                self.max_index = new_index\n",
    "            updated_new_frame += new_mask*int(new_index)\n",
    "\n",
    "        for missing_index in list(self.missing_cells.keys()):\n",
    "            self.missing_cells[missing_index].missing_count += 1\n",
    "            if self.missing_cells[missing_index].missing_count >= self.frame_memory:\n",
    "                if missing_index in self.old_frame:\n",
    "                    self.old_frame = torch.where(self.old_frame==missing_index, 0, self.old_frame)\n",
    "                del self.missing_cells[missing_index]\n",
    "\n",
    "        for missing_mask, missing_index in mask_funcs.SplitMask(self.old_frame):\n",
    "            if missing_index not in self.missing_cells.keys():\n",
    "                self.missing_cells[missing_index] = MissingCell(missing_mask)\n",
    "        self.new_frame = updated_new_frame\n",
    "\n",
    "    def track(self):\n",
    "        print('\\n--------------------\\nTRACKING - ', self.name, '\\n--------------------')\n",
    "\n",
    "        utils.save_tiff(self.old_frame.to(dtype=torch.int16).cpu().numpy().astype(np.uint16),\n",
    "                        self.tracked_directory / (\"{0:04}\".format(0) + '.tif'))\n",
    "\n",
    "        for i in range(1, len(self.mask_ims)):\n",
    "            sys.stdout.write(\n",
    "                f'\\rAdding frame {i+1} / {len(self.mask_ims)}')\n",
    "            sys.stdout.flush()\n",
    "\n",
    "            self.new_frame = torch.tensor(utils.read_tiff(self.mask_ims[i]).astype(np.int16)).to(device)\n",
    "            self.update_new_frame()\n",
    "            self.old_frame = self.new_frame\n",
    "            utils.save_tiff(self.old_frame.to(dtype=torch.int16).cpu().numpy().astype(np.uint16), self.tracked_directory / (\"{0:04}\".format(i) + '.tif'))\n",
    "\n",
    "    def show_tracks(self, num_frames=None):\n",
    "        print('\\n--------------------\\nSHOWING TRACKS - ', self.name, '\\n--------------------')\n",
    "        self.tracked_masks = sorted([mask for mask in (self.tracked_directory).iterdir()])\n",
    "        colour_dict = {}\n",
    "        if num_frames is None:\n",
    "            num_frames = len(self.tracked_masks)\n",
    "        for i in range(num_frames):\n",
    "            sys.stdout.write(\n",
    "                f'\\rAdding frame {i + 1} / {num_frames}')\n",
    "            sys.stdout.flush()\n",
    "            mask = torch.tensor(utils.read_tiff(self.tracked_masks[i]).astype(np.uint8)).to(device)\n",
    "            im_rgb = torch.tensor(utils.read_tiff(self.images[i]).astype(np.int16)).to(device)\n",
    "    \n",
    "            im_rgb = im_rgb.permute(2, 0, 1)\n",
    "            \n",
    "            for j in range(torch.max(mask)):\n",
    "                if j+1 in mask:\n",
    "                    if j+1 not in colour_dict.keys():\n",
    "                        colour_dict[j+1] = torch.tensor(np.random.uniform(0, 2**(8)-1, size=3)).to(device)\n",
    "                    single_mask = torch.where(mask==j+1, 1, 0)\n",
    "                    outline = mask_funcs.mask_outline(single_mask, 3)\n",
    "                    for c in range(3):\n",
    "                        im_rgb[c] = torch.where(outline, colour_dict[j+1][c], im_rgb[c])\n",
    "            im_rgb = im_rgb.permute(1, 2, 0)\n",
    "            utils.save_tiff((im_rgb).cpu().numpy().astype(np.uint8), self.view_tracks_directory / (\"{0:04}\".format(i) + '.jpg'))\n"
   ],
   "metadata": {
    "id": "XFXk1WrbvUoU",
    "executionInfo": {
     "status": "ok",
     "timestamp": 1719932266231,
     "user_tz": -60,
     "elapsed": 310,
     "user": {
      "displayName": "Toumai Rouse",
      "userId": "03336959233509378970"
     }
    }
   },
   "outputs": [],
   "execution_count": null
  },
  {
   "cell_type": "code",
   "source": [
    "# inputs\n",
    "mask_path = r'amoeba'\n",
    "image_path = r'Phase'\n",
    "\n",
    "# output\n",
    "tracked_path = r'Tracks'\n",
    "view_tracks_path = r'show tracks'\n",
    "\n",
    "utils.remake_dir(Path(tracked_path))\n",
    "utils.remake_dir(Path(view_tracks_path))\n",
    "\n",
    "\n",
    "my_tracker = Tracker('Amoebas', Path(mask_path), Path(image_path), Path(tracked_path), Path(view_tracks_path))\n",
    "my_tracker.track()\n",
    "my_tracker.show_tracks()\n",
    "\n",
    "\n",
    "img = cv2.imread(os.path.join(view_tracks_path, os.listdir(view_tracks_path)[0]))\n",
    "plt.imshow(img)\n",
    "plt.axis(\"off\")"
   ],
   "metadata": {
    "colab": {
     "base_uri": "https://localhost:8080/",
     "height": 962
    },
    "id": "O_OykaFNvvRW",
    "executionInfo": {
     "status": "ok",
     "timestamp": 1719932419724,
     "user_tz": -60,
     "elapsed": 150610,
     "user": {
      "displayName": "Toumai Rouse",
      "userId": "03336959233509378970"
     }
    },
    "outputId": "235ff574-04df-4dc1-f8e7-e208c7867377"
   },
   "outputs": [],
   "execution_count": null
  }
 ]
}
